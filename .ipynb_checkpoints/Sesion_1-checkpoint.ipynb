{
 "cells": [
  {
   "cell_type": "code",
   "execution_count": 40,
   "id": "d372f378",
   "metadata": {},
   "outputs": [
    {
     "name": "stdout",
     "output_type": "stream",
     "text": [
      "Insert Bilangan : 2\n",
      "Hasilnya : Bilgen\n"
     ]
    }
   ],
   "source": [
    "#Number 1\n",
    "\n",
    "angka = input('Insert Bilangan : ')\n",
    "if (int(angka)%2 == 0) :\n",
    "    print('Hasilnya : Bilgen')\n",
    "else :\n",
    "    print('Hasilnya : Biljil')"
   ]
  },
  {
   "cell_type": "code",
   "execution_count": 70,
   "id": "3049be0f",
   "metadata": {},
   "outputs": [
    {
     "name": "stdout",
     "output_type": "stream",
     "text": [
      "insert angka1\n"
     ]
    }
   ],
   "source": [
    "#Number 2\n",
    "\n",
    "x = int(input(\"insert angka\"))\n",
    "y=1\n",
    "\n",
    "while y < x:\n",
    "    if x % y ==0:\n",
    "        print(y)\n",
    "        y += 1"
   ]
  },
  {
   "cell_type": "code",
   "execution_count": 76,
   "id": "977a4a6a",
   "metadata": {},
   "outputs": [
    {
     "name": "stdout",
     "output_type": "stream",
     "text": [
      "masukan nilai dalam angka 1-100: 40\n",
      "inputan salah\n",
      "Angka 40 =  None\n"
     ]
    }
   ],
   "source": [
    "#No 3\n",
    "\n",
    "huruf = int(input('masukan nilai dalam angka 1-100: '))\n",
    " \n",
    "hasil = None\n",
    "if huruf <= 85 and nilai > 80:\n",
    "    hasil = 'A'\n",
    "elif huruf <= 80 and nilai > 60:\n",
    "    hasil = 'B'\n",
    "elif huruf <= 60 and nilai > 40:\n",
    "    hasil = 'C'\n",
    "elif huruf <= 40 and nilai > 20:\n",
    "    hasil = 'D'\n",
    "elif huruf <=20 and nilai >= 0:\n",
    "    hasil = 'E'\n",
    "else:\n",
    "    print('inputan salah')\n",
    "print('Angka {} =  {}'.format(huruf, hasil))"
   ]
  },
  {
   "cell_type": "code",
   "execution_count": 110,
   "id": "8bbf6a09",
   "metadata": {},
   "outputs": [
    {
     "name": "stdout",
     "output_type": "stream",
     "text": [
      "insert put yor number1\n"
     ]
    }
   ],
   "source": [
    "number = int (input(\"insert put yor number\"))\n",
    "\n",
    "i = 1\n",
    "\n",
    "while i < number:\n",
    "    if (number%i == 0):\n",
    "        print (i)\n",
    "    i=i+1"
   ]
  },
  {
   "cell_type": "code",
   "execution_count": 120,
   "id": "d83f6431",
   "metadata": {},
   "outputs": [
    {
     "name": "stdout",
     "output_type": "stream",
     "text": [
      "Sangat Gila\n",
      "Add Angka: 1\n",
      "Gila\n",
      "Add Angka: 2\n",
      "Gila\n",
      "Add Angka: 3\n",
      "Gila\n",
      "Add Angka: 4\n",
      "Gila\n",
      "Add Angka: 5\n",
      "Gila\n",
      "Add Angka: 6\n",
      "Gila\n",
      "Add Angka: 7\n",
      "You Gila\n"
     ]
    }
   ],
   "source": [
    "import random \n",
    "fadlan=random.randint(1,9) \n",
    "#raihan = int (input(\"Raihan : \"))\n",
    "\n",
    "while raihan != fadlan:\n",
    "    if raihan < fadlan:\n",
    "        print(\"Gila\")\n",
    "    elif raihan > fadlan:\n",
    "        print(\"Sangat Gila\")\n",
    "    raihan = int(input(\"Add Angka: \"))\n",
    "else:\n",
    "    print(\"You Gila\")\n",
    "    "
   ]
  },
  {
   "cell_type": "markdown",
   "id": "c5ccba6f",
   "metadata": {},
   "source": []
  },
  {
   "cell_type": "code",
   "execution_count": null,
   "id": "d5fa6077",
   "metadata": {},
   "outputs": [],
   "source": []
  }
 ],
 "metadata": {
  "kernelspec": {
   "display_name": "Python 3",
   "language": "python",
   "name": "python3"
  },
  "language_info": {
   "codemirror_mode": {
    "name": "ipython",
    "version": 3
   },
   "file_extension": ".py",
   "mimetype": "text/x-python",
   "name": "python",
   "nbconvert_exporter": "python",
   "pygments_lexer": "ipython3",
   "version": "3.8.8"
  }
 },
 "nbformat": 4,
 "nbformat_minor": 5
}
